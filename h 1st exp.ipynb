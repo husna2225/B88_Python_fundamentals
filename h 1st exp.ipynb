{
 "cells": [
  {
   "cell_type": "code",
   "execution_count": 1,
   "id": "769dce69-12c2-49ba-8bc8-76357617624e",
   "metadata": {},
   "outputs": [
    {
     "data": {
      "text/plain": [
       "13"
      ]
     },
     "execution_count": 1,
     "metadata": {},
     "output_type": "execute_result"
    }
   ],
   "source": [
    "5+8"
   ]
  },
  {
   "cell_type": "code",
   "execution_count": 11,
   "id": "746f0a49-fe65-431c-a546-bbc44ce8106b",
   "metadata": {},
   "outputs": [],
   "source": [
    "a=4\n",
    "b=5\n",
    "c=a+b"
   ]
  },
  {
   "cell_type": "code",
   "execution_count": 15,
   "id": "4c2c834b-e106-4e39-8e9e-6dc13ebdb357",
   "metadata": {},
   "outputs": [
    {
     "name": "stdout",
     "output_type": "stream",
     "text": [
      "9\n"
     ]
    }
   ],
   "source": [
    "print(c);"
   ]
  },
  {
   "cell_type": "code",
   "execution_count": 21,
   "id": "e0478631-a7f1-4901-b0ca-fdfc491ed095",
   "metadata": {},
   "outputs": [],
   "source": [
    "a=14\n",
    "b=5\n",
    "c=a/b"
   ]
  },
  {
   "cell_type": "code",
   "execution_count": 23,
   "id": "6cac75fb-cb0b-4d21-8f3c-da4dd4bf0bc4",
   "metadata": {},
   "outputs": [
    {
     "name": "stdout",
     "output_type": "stream",
     "text": [
      "2.8\n"
     ]
    }
   ],
   "source": [
    "print(c);"
   ]
  },
  {
   "cell_type": "code",
   "execution_count": 25,
   "id": "7610aa5e-a2af-4c43-a409-af182048f078",
   "metadata": {},
   "outputs": [],
   "source": [
    "a=14\n",
    "b=55\n",
    "c=a*b"
   ]
  },
  {
   "cell_type": "code",
   "execution_count": 27,
   "id": "1e3f2ce5-16b8-469d-9f09-6377a04ac77f",
   "metadata": {},
   "outputs": [
    {
     "name": "stdout",
     "output_type": "stream",
     "text": [
      "770\n"
     ]
    }
   ],
   "source": [
    "print(c);"
   ]
  },
  {
   "cell_type": "code",
   "execution_count": null,
   "id": "b1634b1f-c87f-482f-af00-92e70e44fac9",
   "metadata": {},
   "outputs": [],
   "source": []
  }
 ],
 "metadata": {
  "kernelspec": {
   "display_name": "Python [conda env:base] *",
   "language": "python",
   "name": "conda-base-py"
  },
  "language_info": {
   "codemirror_mode": {
    "name": "ipython",
    "version": 3
   },
   "file_extension": ".py",
   "mimetype": "text/x-python",
   "name": "python",
   "nbconvert_exporter": "python",
   "pygments_lexer": "ipython3",
   "version": "3.12.7"
  }
 },
 "nbformat": 4,
 "nbformat_minor": 5
}
